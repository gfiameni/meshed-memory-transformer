{
 "cells": [
  {
   "cell_type": "code",
   "execution_count": 23,
   "metadata": {},
   "outputs": [],
   "source": [
    "from __future__ import print_function\n",
    "from data import ImageDetectionsField, TextField, RawField\n",
    "from data import COCO, DataLoader\n",
    "\n",
    "from nvidia.dali.pipeline import Pipeline\n",
    "import nvidia.dali.ops as ops\n",
    "import nvidia.dali.types as types\n",
    "import numpy as np\n",
    "from time import time\n",
    "import os.path\n",
    "\n",
    "\n",
    "class objectview(object):\n",
    "    def __init__(self, d):\n",
    "        self.__dict__ = d\n",
    "        \n",
    "cfg = {'exp_name': 'transformer', \n",
    "       'batch_size' : 200 , \n",
    "       'workers' : 2, \n",
    "       'head' : 8, \n",
    "       'warmup' : 10000, \n",
    "       'resume_last' : False, 'resume_best' : False,\n",
    "       'features_path' : './data/coco_detections.hdf5',\n",
    "       'annotation_folder' : './data/annotations/',\n",
    "       'logs_folder' : './tensorboard_logs',\n",
    "       'N_enc' : 1,\n",
    "       'N_dec' : 1,\n",
    "       'use_amp' : True,\n",
    "       'cuda' : True\n",
    "      }\n",
    "\n",
    "args = objectview(cfg)\n",
    "\n",
    "# test_data_root = os.environ['DALI_EXTRA_PATH']\n",
    "# file_root = os.path.join(test_data_root, 'db', 'coco', 'images')\n",
    "\n",
    "file_root = args.features_path\n",
    "\n",
    "# annotations_file = os.path.join(test_data_root, 'db', 'coco', 'instances.json')\n",
    "\n",
    "annotations_file = os.path.join(args.annotation_folder, 'captions_train2014.json')\n",
    "\n",
    "num_gpus = 1\n",
    "batch_size = 16"
   ]
  },
  {
   "cell_type": "code",
   "execution_count": 24,
   "metadata": {},
   "outputs": [],
   "source": [
    "class COCOPipeline(Pipeline):\n",
    "    def __init__(self, batch_size, num_threads, device_id):\n",
    "        super(COCOPipeline, self).__init__(\n",
    "            batch_size, num_threads, device_id, seed=15)\n",
    "        self.input = ops.COCOReader(\n",
    "            file_root=file_root,\n",
    "            annotations_file=annotations_file,\n",
    "            shard_id=device_id,\n",
    "            num_shards=num_gpus,\n",
    "            ratio=True,\n",
    "            ltrb=True)\n",
    "        self.decode = ops.ImageDecoder(device=\"mixed\", output_type=types.RGB)\n",
    "        self.flip = ops.Flip(device=\"gpu\")\n",
    "        self.bbflip = ops.BbFlip(device=\"cpu\", ltrb=True)\n",
    "        self.paste_pos = ops.Uniform(range=(0, 1))\n",
    "        self.paste_ratio = ops.Uniform(range=(1, 2))\n",
    "        self.coin = ops.CoinFlip(probability=0.5)\n",
    "        self.coin2 = ops.CoinFlip(probability=0.5)\n",
    "        self.paste = ops.Paste(device=\"gpu\", fill_value=(32, 64, 128))\n",
    "        self.bbpaste = ops.BBoxPaste(device=\"cpu\", ltrb=True)\n",
    "        self.prospective_crop = ops.RandomBBoxCrop(\n",
    "            device=\"cpu\",\n",
    "            aspect_ratio=[0.5, 2.0],\n",
    "            thresholds=[0.1, 0.3, 0.5],\n",
    "            scaling=[0.8, 1.0],\n",
    "            ltrb=True)\n",
    "        self.slice = ops.Slice(device=\"gpu\")\n",
    "\n",
    "    def define_graph(self):\n",
    "        rng = self.coin()\n",
    "        rng2 = self.coin2()\n",
    "\n",
    "        inputs, bboxes, labels = self.input()\n",
    "        images = self.decode(inputs)\n",
    "\n",
    "        # Paste and BBoxPaste need to use same scales and positions\n",
    "        ratio = self.paste_ratio()\n",
    "        px = self.paste_pos()\n",
    "        py = self.paste_pos()\n",
    "        images = self.paste(images, paste_x=px, paste_y=py, ratio=ratio)\n",
    "        bboxes = self.bbpaste(bboxes, paste_x=px, paste_y=py, ratio=ratio)\n",
    "\n",
    "        crop_begin, crop_size, bboxes, labels = self.prospective_crop(bboxes, labels)\n",
    "        images = self.slice(images, crop_begin, crop_size)\n",
    "\n",
    "        images = self.flip(images, horizontal=rng, vertical=rng2)\n",
    "        bboxes = self.bbflip(bboxes, horizontal=rng, vertical=rng2)\n",
    "\n",
    "        return (images, bboxes, labels)"
   ]
  },
  {
   "cell_type": "code",
   "execution_count": 25,
   "metadata": {},
   "outputs": [
    {
     "name": "stdout",
     "output_type": "stream",
     "text": [
      "Computation graph built and dataset loaded in 0.374428 seconds.\n"
     ]
    }
   ],
   "source": [
    "start = time()\n",
    "pipes = [COCOPipeline(batch_size=batch_size, num_threads=2, device_id=device_id)  for device_id in range(num_gpus)]\n",
    "for pipe in pipes:\n",
    "    pipe.build()\n",
    "total_time = time() - start\n",
    "print(\"Computation graph built and dataset loaded in %f seconds.\" % total_time)"
   ]
  },
  {
   "cell_type": "code",
   "execution_count": 26,
   "metadata": {},
   "outputs": [
    {
     "ename": "RuntimeError",
     "evalue": "Critical error in pipeline: [/opt/dali/dali/util/local_file.cc:105] File mapping failed: ./data/coco_detections.hdf5/COCO_train2014_000000000009.jpg\nStacktrace (9 entries):\n[frame 0]: /opt/conda/lib/python3.6/site-packages/nvidia/dali/libdali.so(+0x6984e) [0x7fc56ae7e84e]\n[frame 1]: /opt/conda/lib/python3.6/site-packages/nvidia/dali/libdali.so(+0x168c64) [0x7fc56af7dc64]\n[frame 2]: /opt/conda/lib/python3.6/site-packages/nvidia/dali/libdali.so(dali::FileStream::Open(std::string const&, bool)+0xfb) [0x7fc56af7098b]\n[frame 3]: /opt/conda/lib/python3.6/site-packages/nvidia/dali/libdali_operators.so(+0x496190) [0x7fc56c630190]\n[frame 4]: /opt/conda/lib/python3.6/site-packages/nvidia/dali/libdali_operators.so(+0x4d5fa8) [0x7fc56c66ffa8]\n[frame 5]: /opt/conda/lib/python3.6/site-packages/nvidia/dali/libdali_operators.so(+0x4d7205) [0x7fc56c671205]\n[frame 6]: /opt/conda/lib/python3.6/site-packages/nvidia/dali/libdali_operators.so(+0xe6e8f0) [0x7fc56d0088f0]\n[frame 7]: /lib/x86_64-linux-gnu/libpthread.so.0(+0x76db) [0x7fc6fdf086db]\n[frame 8]: /lib/x86_64-linux-gnu/libc.so.6(clone+0x3f) [0x7fc6fdc3188f]\n\nCurrent pipeline object is no longer valid.",
     "output_type": "error",
     "traceback": [
      "\u001b[0;31m---------------------------------------------------------------------------\u001b[0m",
      "\u001b[0;31mRuntimeError\u001b[0m                              Traceback (most recent call last)",
      "\u001b[0;32m<ipython-input-26-74f2355a5896>\u001b[0m in \u001b[0;36m<module>\u001b[0;34m\u001b[0m\n\u001b[0;32m----> 1\u001b[0;31m \u001b[0mpipe_out\u001b[0m \u001b[0;34m=\u001b[0m \u001b[0;34m[\u001b[0m\u001b[0mpipe\u001b[0m\u001b[0;34m.\u001b[0m\u001b[0mrun\u001b[0m\u001b[0;34m(\u001b[0m\u001b[0;34m)\u001b[0m \u001b[0;32mfor\u001b[0m \u001b[0mpipe\u001b[0m \u001b[0;32min\u001b[0m \u001b[0mpipes\u001b[0m\u001b[0;34m]\u001b[0m\u001b[0;34m\u001b[0m\u001b[0;34m\u001b[0m\u001b[0m\n\u001b[0m\u001b[1;32m      2\u001b[0m \u001b[0;34m\u001b[0m\u001b[0m\n\u001b[1;32m      3\u001b[0m \u001b[0mimages_cpu\u001b[0m \u001b[0;34m=\u001b[0m \u001b[0mpipe_out\u001b[0m\u001b[0;34m[\u001b[0m\u001b[0;36m0\u001b[0m\u001b[0;34m]\u001b[0m\u001b[0;34m[\u001b[0m\u001b[0;36m0\u001b[0m\u001b[0;34m]\u001b[0m\u001b[0;34m.\u001b[0m\u001b[0mas_cpu\u001b[0m\u001b[0;34m(\u001b[0m\u001b[0;34m)\u001b[0m\u001b[0;34m\u001b[0m\u001b[0;34m\u001b[0m\u001b[0m\n\u001b[1;32m      4\u001b[0m \u001b[0mbboxes_cpu\u001b[0m \u001b[0;34m=\u001b[0m \u001b[0mpipe_out\u001b[0m\u001b[0;34m[\u001b[0m\u001b[0;36m0\u001b[0m\u001b[0;34m]\u001b[0m\u001b[0;34m[\u001b[0m\u001b[0;36m1\u001b[0m\u001b[0;34m]\u001b[0m\u001b[0;34m\u001b[0m\u001b[0;34m\u001b[0m\u001b[0m\n\u001b[1;32m      5\u001b[0m \u001b[0mlabels_cpu\u001b[0m \u001b[0;34m=\u001b[0m \u001b[0mpipe_out\u001b[0m\u001b[0;34m[\u001b[0m\u001b[0;36m0\u001b[0m\u001b[0;34m]\u001b[0m\u001b[0;34m[\u001b[0m\u001b[0;36m2\u001b[0m\u001b[0;34m]\u001b[0m\u001b[0;34m\u001b[0m\u001b[0;34m\u001b[0m\u001b[0m\n",
      "\u001b[0;32m<ipython-input-26-74f2355a5896>\u001b[0m in \u001b[0;36m<listcomp>\u001b[0;34m(.0)\u001b[0m\n\u001b[0;32m----> 1\u001b[0;31m \u001b[0mpipe_out\u001b[0m \u001b[0;34m=\u001b[0m \u001b[0;34m[\u001b[0m\u001b[0mpipe\u001b[0m\u001b[0;34m.\u001b[0m\u001b[0mrun\u001b[0m\u001b[0;34m(\u001b[0m\u001b[0;34m)\u001b[0m \u001b[0;32mfor\u001b[0m \u001b[0mpipe\u001b[0m \u001b[0;32min\u001b[0m \u001b[0mpipes\u001b[0m\u001b[0;34m]\u001b[0m\u001b[0;34m\u001b[0m\u001b[0;34m\u001b[0m\u001b[0m\n\u001b[0m\u001b[1;32m      2\u001b[0m \u001b[0;34m\u001b[0m\u001b[0m\n\u001b[1;32m      3\u001b[0m \u001b[0mimages_cpu\u001b[0m \u001b[0;34m=\u001b[0m \u001b[0mpipe_out\u001b[0m\u001b[0;34m[\u001b[0m\u001b[0;36m0\u001b[0m\u001b[0;34m]\u001b[0m\u001b[0;34m[\u001b[0m\u001b[0;36m0\u001b[0m\u001b[0;34m]\u001b[0m\u001b[0;34m.\u001b[0m\u001b[0mas_cpu\u001b[0m\u001b[0;34m(\u001b[0m\u001b[0;34m)\u001b[0m\u001b[0;34m\u001b[0m\u001b[0;34m\u001b[0m\u001b[0m\n\u001b[1;32m      4\u001b[0m \u001b[0mbboxes_cpu\u001b[0m \u001b[0;34m=\u001b[0m \u001b[0mpipe_out\u001b[0m\u001b[0;34m[\u001b[0m\u001b[0;36m0\u001b[0m\u001b[0;34m]\u001b[0m\u001b[0;34m[\u001b[0m\u001b[0;36m1\u001b[0m\u001b[0;34m]\u001b[0m\u001b[0;34m\u001b[0m\u001b[0;34m\u001b[0m\u001b[0m\n\u001b[1;32m      5\u001b[0m \u001b[0mlabels_cpu\u001b[0m \u001b[0;34m=\u001b[0m \u001b[0mpipe_out\u001b[0m\u001b[0;34m[\u001b[0m\u001b[0;36m0\u001b[0m\u001b[0;34m]\u001b[0m\u001b[0;34m[\u001b[0m\u001b[0;36m2\u001b[0m\u001b[0;34m]\u001b[0m\u001b[0;34m\u001b[0m\u001b[0;34m\u001b[0m\u001b[0m\n",
      "\u001b[0;32m/opt/conda/lib/python3.6/site-packages/nvidia/dali/pipeline.py\u001b[0m in \u001b[0;36mrun\u001b[0;34m(self)\u001b[0m\n\u001b[1;32m    446\u001b[0m         \u001b[0;32mwith\u001b[0m \u001b[0mself\u001b[0m\u001b[0;34m.\u001b[0m\u001b[0m_check_api_type_scope\u001b[0m\u001b[0;34m(\u001b[0m\u001b[0mtypes\u001b[0m\u001b[0;34m.\u001b[0m\u001b[0mPipelineAPIType\u001b[0m\u001b[0;34m.\u001b[0m\u001b[0mBASIC\u001b[0m\u001b[0;34m)\u001b[0m \u001b[0;32mas\u001b[0m \u001b[0mcheck\u001b[0m\u001b[0;34m:\u001b[0m\u001b[0;34m\u001b[0m\u001b[0;34m\u001b[0m\u001b[0m\n\u001b[1;32m    447\u001b[0m             \u001b[0mself\u001b[0m\u001b[0;34m.\u001b[0m\u001b[0mschedule_run\u001b[0m\u001b[0;34m(\u001b[0m\u001b[0;34m)\u001b[0m\u001b[0;34m\u001b[0m\u001b[0;34m\u001b[0m\u001b[0m\n\u001b[0;32m--> 448\u001b[0;31m             \u001b[0;32mreturn\u001b[0m \u001b[0mself\u001b[0m\u001b[0;34m.\u001b[0m\u001b[0moutputs\u001b[0m\u001b[0;34m(\u001b[0m\u001b[0;34m)\u001b[0m\u001b[0;34m\u001b[0m\u001b[0;34m\u001b[0m\u001b[0m\n\u001b[0m\u001b[1;32m    449\u001b[0m \u001b[0;34m\u001b[0m\u001b[0m\n\u001b[1;32m    450\u001b[0m     \u001b[0;32mdef\u001b[0m \u001b[0m_prefetch\u001b[0m\u001b[0;34m(\u001b[0m\u001b[0mself\u001b[0m\u001b[0;34m)\u001b[0m\u001b[0;34m:\u001b[0m\u001b[0;34m\u001b[0m\u001b[0;34m\u001b[0m\u001b[0m\n",
      "\u001b[0;32m/opt/conda/lib/python3.6/site-packages/nvidia/dali/pipeline.py\u001b[0m in \u001b[0;36moutputs\u001b[0;34m(self)\u001b[0m\n\u001b[1;32m    356\u001b[0m             \u001b[0mself\u001b[0m\u001b[0;34m.\u001b[0m\u001b[0m_batches_to_consume\u001b[0m \u001b[0;34m-=\u001b[0m \u001b[0;36m1\u001b[0m\u001b[0;34m\u001b[0m\u001b[0;34m\u001b[0m\u001b[0m\n\u001b[1;32m    357\u001b[0m             \u001b[0mself\u001b[0m\u001b[0;34m.\u001b[0m\u001b[0m_gpu_batches_to_consume\u001b[0m \u001b[0;34m-=\u001b[0m \u001b[0;36m1\u001b[0m\u001b[0;34m\u001b[0m\u001b[0;34m\u001b[0m\u001b[0m\n\u001b[0;32m--> 358\u001b[0;31m             \u001b[0;32mreturn\u001b[0m \u001b[0mself\u001b[0m\u001b[0;34m.\u001b[0m\u001b[0m_outputs\u001b[0m\u001b[0;34m(\u001b[0m\u001b[0;34m)\u001b[0m\u001b[0;34m\u001b[0m\u001b[0;34m\u001b[0m\u001b[0m\n\u001b[0m\u001b[1;32m    359\u001b[0m \u001b[0;34m\u001b[0m\u001b[0m\n\u001b[1;32m    360\u001b[0m     \u001b[0;32mdef\u001b[0m \u001b[0mschedule_run\u001b[0m\u001b[0;34m(\u001b[0m\u001b[0mself\u001b[0m\u001b[0;34m)\u001b[0m\u001b[0;34m:\u001b[0m\u001b[0;34m\u001b[0m\u001b[0;34m\u001b[0m\u001b[0m\n",
      "\u001b[0;32m/opt/conda/lib/python3.6/site-packages/nvidia/dali/pipeline.py\u001b[0m in \u001b[0;36m_outputs\u001b[0;34m(self)\u001b[0m\n\u001b[1;32m    433\u001b[0m         \u001b[0;32mif\u001b[0m \u001b[0;32mnot\u001b[0m \u001b[0mself\u001b[0m\u001b[0;34m.\u001b[0m\u001b[0m_built\u001b[0m\u001b[0;34m:\u001b[0m\u001b[0;34m\u001b[0m\u001b[0;34m\u001b[0m\u001b[0m\n\u001b[1;32m    434\u001b[0m             \u001b[0;32mraise\u001b[0m \u001b[0mRuntimeError\u001b[0m\u001b[0;34m(\u001b[0m\u001b[0;34m\"Pipeline must be built first.\"\u001b[0m\u001b[0;34m)\u001b[0m\u001b[0;34m\u001b[0m\u001b[0;34m\u001b[0m\u001b[0m\n\u001b[0;32m--> 435\u001b[0;31m         \u001b[0;32mreturn\u001b[0m \u001b[0mself\u001b[0m\u001b[0;34m.\u001b[0m\u001b[0m_pipe\u001b[0m\u001b[0;34m.\u001b[0m\u001b[0mOutputs\u001b[0m\u001b[0;34m(\u001b[0m\u001b[0;34m)\u001b[0m\u001b[0;34m\u001b[0m\u001b[0;34m\u001b[0m\u001b[0m\n\u001b[0m\u001b[1;32m    436\u001b[0m \u001b[0;34m\u001b[0m\u001b[0m\n\u001b[1;32m    437\u001b[0m     \u001b[0;32mdef\u001b[0m \u001b[0mrun\u001b[0m\u001b[0;34m(\u001b[0m\u001b[0mself\u001b[0m\u001b[0;34m)\u001b[0m\u001b[0;34m:\u001b[0m\u001b[0;34m\u001b[0m\u001b[0;34m\u001b[0m\u001b[0m\n",
      "\u001b[0;31mRuntimeError\u001b[0m: Critical error in pipeline: [/opt/dali/dali/util/local_file.cc:105] File mapping failed: ./data/coco_detections.hdf5/COCO_train2014_000000000009.jpg\nStacktrace (9 entries):\n[frame 0]: /opt/conda/lib/python3.6/site-packages/nvidia/dali/libdali.so(+0x6984e) [0x7fc56ae7e84e]\n[frame 1]: /opt/conda/lib/python3.6/site-packages/nvidia/dali/libdali.so(+0x168c64) [0x7fc56af7dc64]\n[frame 2]: /opt/conda/lib/python3.6/site-packages/nvidia/dali/libdali.so(dali::FileStream::Open(std::string const&, bool)+0xfb) [0x7fc56af7098b]\n[frame 3]: /opt/conda/lib/python3.6/site-packages/nvidia/dali/libdali_operators.so(+0x496190) [0x7fc56c630190]\n[frame 4]: /opt/conda/lib/python3.6/site-packages/nvidia/dali/libdali_operators.so(+0x4d5fa8) [0x7fc56c66ffa8]\n[frame 5]: /opt/conda/lib/python3.6/site-packages/nvidia/dali/libdali_operators.so(+0x4d7205) [0x7fc56c671205]\n[frame 6]: /opt/conda/lib/python3.6/site-packages/nvidia/dali/libdali_operators.so(+0xe6e8f0) [0x7fc56d0088f0]\n[frame 7]: /lib/x86_64-linux-gnu/libpthread.so.0(+0x76db) [0x7fc6fdf086db]\n[frame 8]: /lib/x86_64-linux-gnu/libc.so.6(clone+0x3f) [0x7fc6fdc3188f]\n\nCurrent pipeline object is no longer valid."
     ]
    }
   ],
   "source": [
    "pipe_out = [pipe.run() for pipe in pipes]\n",
    "\n",
    "images_cpu = pipe_out[0][0].as_cpu()\n",
    "bboxes_cpu = pipe_out[0][1]\n",
    "labels_cpu = pipe_out[0][2]"
   ]
  },
  {
   "cell_type": "code",
   "execution_count": null,
   "metadata": {},
   "outputs": [],
   "source": [
    "img_index = 4\n",
    "\n",
    "bboxes = bboxes_cpu.at(4)\n",
    "bboxes"
   ]
  },
  {
   "cell_type": "code",
   "execution_count": null,
   "metadata": {},
   "outputs": [],
   "source": [
    "import matplotlib.pyplot as plt\n",
    "import matplotlib.patches as patches\n",
    "import random\n",
    "\n",
    "img = images_cpu.at(img_index)\n",
    "\n",
    "H = img.shape[0]\n",
    "W = img.shape[1]\n",
    "fig,ax = plt.subplots(1)\n",
    "\n",
    "ax.imshow(img)\n",
    "bboxes = bboxes_cpu.at(img_index)\n",
    "labels = labels_cpu.at(img_index)\n",
    "categories_set = set()\n",
    "for label in labels:\n",
    "    categories_set.add(label[0])\n",
    "\n",
    "category_id_to_color = dict(\n",
    "    [(cat_id, [random.uniform(0, 1), random.uniform(0, 1), random.uniform(0, 1)]) for cat_id in categories_set])\n",
    "\n",
    "for bbox, label in zip(bboxes, labels):\n",
    "    rect = patches.Rectangle(\n",
    "        (bbox[0] * W, bbox[1] * H), # Absolute corner coordinates\n",
    "        (bbox[2] - bbox[0]) * W,    # Absolute bounding box width\n",
    "        (bbox[3] - bbox[1]) * H,    # Absolute bounding box height\n",
    "        linewidth=1,\n",
    "        edgecolor=category_id_to_color[label[0]],\n",
    "        facecolor='none')\n",
    "    ax.add_patch(rect)\n",
    "\n",
    "plt.show()"
   ]
  },
  {
   "cell_type": "code",
   "execution_count": null,
   "metadata": {},
   "outputs": [],
   "source": []
  },
  {
   "cell_type": "code",
   "execution_count": 5,
   "metadata": {},
   "outputs": [],
   "source": [
    "# Pipeline for image regions\n",
    "image_field = ImageDetectionsField(detections_path=args.features_path, max_detections=50, load_in_tmp=False)\n",
    "\n",
    "# Pipeline for text\n",
    "text_field = TextField(init_token='<bos>', eos_token='<eos>', lower=True, tokenize='spacy',\n",
    "                   remove_punctuation=True, nopoints=False)"
   ]
  },
  {
   "cell_type": "code",
   "execution_count": 7,
   "metadata": {},
   "outputs": [
    {
     "ename": "NameError",
     "evalue": "name 'size' is not defined",
     "output_type": "error",
     "traceback": [
      "\u001b[0;31m---------------------------------------------------------------------------\u001b[0m",
      "\u001b[0;31mNameError\u001b[0m                                 Traceback (most recent call last)",
      "\u001b[0;32m<ipython-input-7-a7129511b5a1>\u001b[0m in \u001b[0;36m<module>\u001b[0;34m\u001b[0m\n\u001b[1;32m      1\u001b[0m \u001b[0;31m# Create the dataset\u001b[0m\u001b[0;34m\u001b[0m\u001b[0;34m\u001b[0m\u001b[0;34m\u001b[0m\u001b[0m\n\u001b[1;32m      2\u001b[0m \u001b[0mdataset\u001b[0m \u001b[0;34m=\u001b[0m \u001b[0mCOCO\u001b[0m\u001b[0;34m(\u001b[0m\u001b[0mimage_field\u001b[0m\u001b[0;34m,\u001b[0m \u001b[0mtext_field\u001b[0m\u001b[0;34m,\u001b[0m \u001b[0;34m'coco/images/'\u001b[0m\u001b[0;34m,\u001b[0m \u001b[0margs\u001b[0m\u001b[0;34m.\u001b[0m\u001b[0mannotation_folder\u001b[0m\u001b[0;34m,\u001b[0m \u001b[0margs\u001b[0m\u001b[0;34m.\u001b[0m\u001b[0mannotation_folder\u001b[0m\u001b[0;34m)\u001b[0m\u001b[0;34m\u001b[0m\u001b[0;34m\u001b[0m\u001b[0m\n\u001b[0;32m----> 3\u001b[0;31m \u001b[0msize\u001b[0m\u001b[0;34m(\u001b[0m\u001b[0mdataset\u001b[0m\u001b[0;34m)\u001b[0m\u001b[0;34m\u001b[0m\u001b[0;34m\u001b[0m\u001b[0m\n\u001b[0m\u001b[1;32m      4\u001b[0m \u001b[0mtrain_dataset\u001b[0m\u001b[0;34m,\u001b[0m \u001b[0mval_dataset\u001b[0m\u001b[0;34m,\u001b[0m \u001b[0mtest_dataset\u001b[0m \u001b[0;34m=\u001b[0m \u001b[0mdataset\u001b[0m\u001b[0;34m.\u001b[0m\u001b[0msplits\u001b[0m\u001b[0;34m\u001b[0m\u001b[0;34m\u001b[0m\u001b[0m\n",
      "\u001b[0;31mNameError\u001b[0m: name 'size' is not defined"
     ]
    }
   ],
   "source": [
    "# Create the dataset\n",
    "dataset = COCO(image_field, text_field, 'coco/images/', args.annotation_folder, args.annotation_folder)\n",
    "train_dataset, val_dataset, test_dataset = dataset.splits"
   ]
  },
  {
   "cell_type": "code",
   "execution_count": 8,
   "metadata": {},
   "outputs": [
    {
     "data": {
      "text/plain": [
       "data.dataset.PairedDataset"
      ]
     },
     "execution_count": 8,
     "metadata": {},
     "output_type": "execute_result"
    }
   ],
   "source": [
    "type(train_dataset)"
   ]
  },
  {
   "cell_type": "code",
   "execution_count": null,
   "metadata": {},
   "outputs": [],
   "source": [
    "dataset."
   ]
  }
 ],
 "metadata": {
  "kernelspec": {
   "display_name": "Python 3",
   "language": "python",
   "name": "python3"
  },
  "language_info": {
   "codemirror_mode": {
    "name": "ipython",
    "version": 3
   },
   "file_extension": ".py",
   "mimetype": "text/x-python",
   "name": "python",
   "nbconvert_exporter": "python",
   "pygments_lexer": "ipython3",
   "version": "3.6.9"
  }
 },
 "nbformat": 4,
 "nbformat_minor": 4
}
